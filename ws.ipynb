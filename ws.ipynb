{
 "cells": [
  {
   "cell_type": "code",
   "execution_count": 3,
   "metadata": {},
   "outputs": [
    {
     "ename": "SyntaxError",
     "evalue": "invalid syntax (<ipython-input-3-065fe6a12c22>, line 19)",
     "output_type": "error",
     "traceback": [
      "\u001b[0;36m  File \u001b[0;32m\"<ipython-input-3-065fe6a12c22>\"\u001b[0;36m, line \u001b[0;32m19\u001b[0m\n\u001b[0;31m    for row in sect.find_all('tr'):\u001b[0m\n\u001b[0m                                  ^\u001b[0m\n\u001b[0;31mSyntaxError\u001b[0m\u001b[0;31m:\u001b[0m invalid syntax\n"
     ]
    }
   ],
   "source": [
    "import requests as r\n",
    "from bs4 import BeautifulSoup\n",
    "import csv\n",
    "\n",
    "url = 'http://drd.ba.ttu.edu/isqs3358/hw3/'\n",
    "mobfileout = '/Users/haider/BusinessIntelligence/mobfileout.csv'\n",
    "index_result = r.get(url)\n",
    "if index_result == 200:\n",
    "    print('bad request, recevied code' + str(index_result.status_code))\n",
    "else:\n",
    "    isoup = BeautifulSoup(index_result.connect, 'lxml')\n",
    "\n",
    "    sect = isoup.find(\"div\", attrs={'id': 'mobindex'}).find(\"table\")\n",
    "    with open(mobfileout, 'w') as dataout:\n",
    "        datawriter = csv.writer(dataout, delimiter=',', quotechar='\"', quoting=csv.QUOTE_NONNUMERIC)\n",
    "\n",
    "        datawriter.writerow(['id', 'quality', 'name', 'hp', 'level', 'elite', 'damage', 'money_drop', 'drop_mask']\n",
    "\n",
    "        for row in sect.find_all('tr'):\n",
    "            sect_data = row.find_all('td')\n",
    "            if len(sect_data) > 0:\n",
    "                urlending = sect_data[0].find('a')['href']\n",
    "                mid = urlending.split('=')[1]\n",
    "                if mid is not None and len(mid) > 0:\n",
    "                    subpage = r.get(myurltofind + urlending)\n",
    "\n",
    "                    subpage = BeautifulSoup(subpage.content, 'lxml')\n",
    "\n",
    "                    subsect = subsoup.find(\"div\", attrs={'id': 'mobcard'})\n",
    "                    subvallist = subsect.find_all('span', attrs={'class': 'val'})\n",
    "                    datawriter.writerow([mid,\n",
    "                             sect_data[1].text,\n",
    "                             sect_data[0].text,\n",
    "                             subvallist[3].text,\n",
    "                             subvallist[2].text,\n",
    "                             1 if subvallist[1].text == \"Elite\" else 0,\n",
    "                             subvallist[6].text,\n",
    "                             subvallist[5].text,\n",
    "                             subvallist[4].text.replace(\"\\n\", \"\")])\n"
   ]
  },
  {
   "cell_type": "code",
   "execution_count": null,
   "metadata": {},
   "outputs": [],
   "source": []
  }
 ],
 "metadata": {
  "kernelspec": {
   "display_name": "Python 3",
   "language": "python",
   "name": "python3"
  },
  "language_info": {
   "codemirror_mode": {
    "name": "ipython",
    "version": 3
   },
   "file_extension": ".py",
   "mimetype": "text/x-python",
   "name": "python",
   "nbconvert_exporter": "python",
   "pygments_lexer": "ipython3",
   "version": "3.7.5"
  }
 },
 "nbformat": 4,
 "nbformat_minor": 2
}
