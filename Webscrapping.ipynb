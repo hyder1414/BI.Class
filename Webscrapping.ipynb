{
 "cells": [
  {
   "cell_type": "code",
   "execution_count": 167,
   "metadata": {},
   "outputs": [],
   "source": [
    "import requests as r\n",
    "from bs4 import BeautifulSoup\n",
    "import csv\n",
    "import numpy as np\n",
    "import pandas as pd\n",
    "\n",
    "\n",
    "urltoget='http://drd.ba.ttu.edu/isqs3358/imbadproducts/'\n",
    "\n",
    "\n",
    "\n",
    "res =r.get(urltoget)\n",
    "res.content\n",
    "\n",
    "soup=BeautifulSoup(res.content, 'xml')\n",
    "\n"
   ]
  },
  {
   "cell_type": "code",
   "execution_count": 55,
   "metadata": {},
   "outputs": [
    {
     "data": {
      "text/plain": [
       "b'<html>\\n<head>\\n<link rel=\"stylesheet\" href=\"style/badstyle.css\">\\n</head>\\n<body>\\n\\t<div id=\"searchresults\">\\n\\t\\t<h2>Search Results</h2>\\n\\t\\t<a href=\"products/B01NAJGGA2.html\">\\n\\t\\t\\t<div class=\"productresult\">\\n\\t\\t\\t\\t<span class=\"productid\">B01NAJGGA2</span>\\n\\t\\t\\t\\t<span class=\"producttitle\">Mpow 059 Bluetooth Headphones</span>\\n\\t\\t\\t\\t<span class=\"productprice\">$35.99</span>\\n\\t\\t\\t\\t<span class=\"productdesc\">Over Ear, Hi-Fi Stereo Wireless Headset, Foldable, Soft Memory-Protein Earmuffs, w/Built-in Mic Wired Mode PC/Cell Phones/TV</span>\\n\\t\\t\\t</div>\\n\\t\\t</a>\\n\\t\\t<a href=\"products/B07JMSQLCP.html\">\\n\\t\\t\\t<div class=\"productresult\">\\n\\t\\t\\t\\t<span class=\"productid\">B07JMSQLCP</span>\\n\\t\\t\\t\\t<span class=\"producttitle\">APIE Bluetooth Headphones, Wireless Earbuds</span>\\n\\t\\t\\t\\t<span class=\"productprice\">$19.99</span>\\n\\t\\t\\t\\t<span class=\"productdesc\">Bluetooth 4.1 with Microphone Sport Stereo Headset, Stereo Neckband Headset, Premium Sound with Bass, Noise Cancelling - Black</span>\\n\\t\\t\\t</div>\\n\\t\\t</a>\\n\\t\\t<a href=\"products/B018APC4LE.html\">\\n\\t\\t\\t<div class=\"productresult\">\\n\\t\\t\\t\\t<span class=\"productid\">B018APC4LE</span>\\n\\t\\t\\t\\t<span class=\"producttitle\">Bluetooth Headphones, Otium</span>\\n\\t\\t\\t\\t<span class=\"productprice\">$19.97</span>\\n\\t\\t\\t\\t<span class=\"productdesc\">Best Wireless Sports Earphones W/Mic IPX7 Waterproof HD Stereo Sweatproof in Ear Earbuds Gym Running Workout 8 Hour Battery Noise Cancelling Headsets</span>\\n\\t\\t\\t</div>\\n\\t\\t</a>\\n\\t</div>\\n</body>\\n</html>\\n'"
      ]
     },
     "execution_count": 55,
     "metadata": {},
     "output_type": "execute_result"
    }
   ],
   "source": [
    "res = r.get(urltoget)\n",
    "res.content \n"
   ]
  },
  {
   "cell_type": "code",
   "execution_count": 56,
   "metadata": {},
   "outputs": [
    {
     "name": "stdout",
     "output_type": "stream",
     "text": [
      "<a href=\"products/B01NAJGGA2.html\">\n",
      "<div class=\"productresult\">\n",
      "<span class=\"productid\">B01NAJGGA2</span>\n",
      "<span class=\"producttitle\">Mpow 059 Bluetooth Headphones</span>\n",
      "<span class=\"productprice\">$35.99</span>\n",
      "<span class=\"productdesc\">Over Ear, Hi-Fi Stereo Wireless Headset, Foldable, Soft Memory-Protein Earmuffs, w/Built-in Mic Wired Mode PC/Cell Phones/TV</span>\n",
      "</div>\n",
      "</a>\n"
     ]
    }
   ],
   "source": [
    "soup= BeautifulSoup(res.content, 'lxml')\n",
    "results = soup.find(\"a\")\n",
    "print(results)"
   ]
  },
  {
   "cell_type": "code",
   "execution_count": 57,
   "metadata": {},
   "outputs": [
    {
     "name": "stdout",
     "output_type": "stream",
     "text": [
      "products/B01NAJGGA2.html\n"
     ]
    }
   ],
   "source": [
    "print(results['href'])"
   ]
  },
  {
   "cell_type": "code",
   "execution_count": 58,
   "metadata": {},
   "outputs": [
    {
     "data": {
      "text/plain": [
       "[<a href=\"products/B01NAJGGA2.html\">\n",
       " <div class=\"productresult\">\n",
       " <span class=\"productid\">B01NAJGGA2</span>\n",
       " <span class=\"producttitle\">Mpow 059 Bluetooth Headphones</span>\n",
       " <span class=\"productprice\">$35.99</span>\n",
       " <span class=\"productdesc\">Over Ear, Hi-Fi Stereo Wireless Headset, Foldable, Soft Memory-Protein Earmuffs, w/Built-in Mic Wired Mode PC/Cell Phones/TV</span>\n",
       " </div>\n",
       " </a>, <a href=\"products/B07JMSQLCP.html\">\n",
       " <div class=\"productresult\">\n",
       " <span class=\"productid\">B07JMSQLCP</span>\n",
       " <span class=\"producttitle\">APIE Bluetooth Headphones, Wireless Earbuds</span>\n",
       " <span class=\"productprice\">$19.99</span>\n",
       " <span class=\"productdesc\">Bluetooth 4.1 with Microphone Sport Stereo Headset, Stereo Neckband Headset, Premium Sound with Bass, Noise Cancelling - Black</span>\n",
       " </div>\n",
       " </a>, <a href=\"products/B018APC4LE.html\">\n",
       " <div class=\"productresult\">\n",
       " <span class=\"productid\">B018APC4LE</span>\n",
       " <span class=\"producttitle\">Bluetooth Headphones, Otium</span>\n",
       " <span class=\"productprice\">$19.97</span>\n",
       " <span class=\"productdesc\">Best Wireless Sports Earphones W/Mic IPX7 Waterproof HD Stereo Sweatproof in Ear Earbuds Gym Running Workout 8 Hour Battery Noise Cancelling Headsets</span>\n",
       " </div>\n",
       " </a>]"
      ]
     },
     "execution_count": 58,
     "metadata": {},
     "output_type": "execute_result"
    }
   ],
   "source": [
    "results = soup.find_all(\"a\")\n",
    "results"
   ]
  },
  {
   "cell_type": "code",
   "execution_count": 59,
   "metadata": {},
   "outputs": [
    {
     "name": "stdout",
     "output_type": "stream",
     "text": [
      "products/B01NAJGGA2.html\n",
      "products/B07JMSQLCP.html\n",
      "products/B018APC4LE.html\n"
     ]
    }
   ],
   "source": [
    "for i in results:\n",
    "    print(i['href'])"
   ]
  },
  {
   "cell_type": "code",
   "execution_count": 60,
   "metadata": {},
   "outputs": [
    {
     "name": "stdout",
     "output_type": "stream",
     "text": [
      "\n",
      "\n",
      "B01NAJGGA2\n",
      "Mpow 059 Bluetooth Headphones\n",
      "$35.99\n",
      "Over Ear, Hi-Fi Stereo Wireless Headset, Foldable, Soft Memory-Protein Earmuffs, w/Built-in Mic Wired Mode PC/Cell Phones/TV\n",
      "\n",
      "\n",
      "\n",
      "\n",
      "B07JMSQLCP\n",
      "APIE Bluetooth Headphones, Wireless Earbuds\n",
      "$19.99\n",
      "Bluetooth 4.1 with Microphone Sport Stereo Headset, Stereo Neckband Headset, Premium Sound with Bass, Noise Cancelling - Black\n",
      "\n",
      "\n",
      "\n",
      "\n",
      "B018APC4LE\n",
      "Bluetooth Headphones, Otium\n",
      "$19.97\n",
      "Best Wireless Sports Earphones W/Mic IPX7 Waterproof HD Stereo Sweatproof in Ear Earbuds Gym Running Workout 8 Hour Battery Noise Cancelling Headsets\n",
      "\n",
      "\n"
     ]
    }
   ],
   "source": [
    "for i in results:\n",
    "    print(i.text)"
   ]
  },
  {
   "cell_type": "code",
   "execution_count": 61,
   "metadata": {},
   "outputs": [
    {
     "name": "stdout",
     "output_type": "stream",
     "text": [
      "B01NAJGGA2\n",
      "B07JMSQLCP\n",
      "B018APC4LE\n"
     ]
    }
   ],
   "source": [
    "r= soup.find_all('span', attrs={'class': 'productid'})\n",
    "for i in r:\n",
    "    print(i.text)\n"
   ]
  },
  {
   "cell_type": "code",
   "execution_count": 62,
   "metadata": {},
   "outputs": [
    {
     "name": "stdout",
     "output_type": "stream",
     "text": [
      "$35.99\n",
      "$19.99\n",
      "$19.97\n"
     ]
    }
   ],
   "source": [
    "r = soup.find_all('span', attrs={'class': 'productprice'})\n",
    "for i in r:\n",
    "    print(i.text)"
   ]
  },
  {
   "cell_type": "code",
   "execution_count": 69,
   "metadata": {},
   "outputs": [
    {
     "name": "stdout",
     "output_type": "stream",
     "text": [
      "request is good\n"
     ]
    }
   ],
   "source": [
    "if res.status_code == 200:\n",
    "    print('request is good')\n",
    "else:\n",
    "    print('bad request'+ str(res.status_code))"
   ]
  },
  {
   "cell_type": "code",
   "execution_count": 70,
   "metadata": {},
   "outputs": [
    {
     "name": "stdout",
     "output_type": "stream",
     "text": [
      "{'Content-Type': 'text/html', 'Last-Modified': 'Thu, 15 Nov 2018 22:26:47 GMT', 'Accept-Ranges': 'bytes', 'ETag': '\"928fc84b327dd41:0\"', 'Server': 'Microsoft-IIS/10.0', 'X-Powered-By': 'ASP.NET', 'Date': 'Sun, 26 Apr 2020 18:24:03 GMT', 'Content-Length': '1415'}\n"
     ]
    }
   ],
   "source": [
    "print(res.headers)"
   ]
  },
  {
   "cell_type": "code",
   "execution_count": 81,
   "metadata": {},
   "outputs": [
    {
     "name": "stdout",
     "output_type": "stream",
     "text": [
      "<a href=\"products/B01NAJGGA2.html\">\n",
      "<div class=\"productresult\">\n",
      "<span class=\"productid\">B01NAJGGA2</span>\n",
      "<span class=\"producttitle\">Mpow 059 Bluetooth Headphones</span>\n",
      "<span class=\"productprice\">$35.99</span>\n",
      "<span class=\"productdesc\">Over Ear, Hi-Fi Stereo Wireless Headset, Foldable, Soft Memory-Protein Earmuffs, w/Built-in Mic Wired Mode PC/Cell Phones/TV</span>\n",
      "</div>\n",
      "</a>\n",
      "<a href=\"products/B07JMSQLCP.html\">\n",
      "<div class=\"productresult\">\n",
      "<span class=\"productid\">B07JMSQLCP</span>\n",
      "<span class=\"producttitle\">APIE Bluetooth Headphones, Wireless Earbuds</span>\n",
      "<span class=\"productprice\">$19.99</span>\n",
      "<span class=\"productdesc\">Bluetooth 4.1 with Microphone Sport Stereo Headset, Stereo Neckband Headset, Premium Sound with Bass, Noise Cancelling - Black</span>\n",
      "</div>\n",
      "</a>\n",
      "<a href=\"products/B018APC4LE.html\">\n",
      "<div class=\"productresult\">\n",
      "<span class=\"productid\">B018APC4LE</span>\n",
      "<span class=\"producttitle\">Bluetooth Headphones, Otium</span>\n",
      "<span class=\"productprice\">$19.97</span>\n",
      "<span class=\"productdesc\">Best Wireless Sports Earphones W/Mic IPX7 Waterproof HD Stereo Sweatproof in Ear Earbuds Gym Running Workout 8 Hour Battery Noise Cancelling Headsets</span>\n",
      "</div>\n",
      "</a>\n"
     ]
    }
   ],
   "source": [
    "soup=BeautifulSoup(res.content, 'lxml')\n",
    "pr= soup.find_all('a')\n",
    "for i in pr:\n",
    "    print(i)"
   ]
  },
  {
   "cell_type": "code",
   "execution_count": 83,
   "metadata": {},
   "outputs": [
    {
     "data": {
      "text/plain": [
       "<div id=\"searchresults\">\n",
       "<h2>Search Results</h2>\n",
       "<a href=\"products/B01NAJGGA2.html\">\n",
       "<div class=\"productresult\">\n",
       "<span class=\"productid\">B01NAJGGA2</span>\n",
       "<span class=\"producttitle\">Mpow 059 Bluetooth Headphones</span>\n",
       "<span class=\"productprice\">$35.99</span>\n",
       "<span class=\"productdesc\">Over Ear, Hi-Fi Stereo Wireless Headset, Foldable, Soft Memory-Protein Earmuffs, w/Built-in Mic Wired Mode PC/Cell Phones/TV</span>\n",
       "</div>\n",
       "</a>\n",
       "<a href=\"products/B07JMSQLCP.html\">\n",
       "<div class=\"productresult\">\n",
       "<span class=\"productid\">B07JMSQLCP</span>\n",
       "<span class=\"producttitle\">APIE Bluetooth Headphones, Wireless Earbuds</span>\n",
       "<span class=\"productprice\">$19.99</span>\n",
       "<span class=\"productdesc\">Bluetooth 4.1 with Microphone Sport Stereo Headset, Stereo Neckband Headset, Premium Sound with Bass, Noise Cancelling - Black</span>\n",
       "</div>\n",
       "</a>\n",
       "<a href=\"products/B018APC4LE.html\">\n",
       "<div class=\"productresult\">\n",
       "<span class=\"productid\">B018APC4LE</span>\n",
       "<span class=\"producttitle\">Bluetooth Headphones, Otium</span>\n",
       "<span class=\"productprice\">$19.97</span>\n",
       "<span class=\"productdesc\">Best Wireless Sports Earphones W/Mic IPX7 Waterproof HD Stereo Sweatproof in Ear Earbuds Gym Running Workout 8 Hour Battery Noise Cancelling Headsets</span>\n",
       "</div>\n",
       "</a>\n",
       "</div>"
      ]
     },
     "execution_count": 83,
     "metadata": {},
     "output_type": "execute_result"
    }
   ],
   "source": [
    "sr= soup.find('div', attrs={'id':'searchresults'})\n",
    "sr"
   ]
  },
  {
   "cell_type": "code",
   "execution_count": 84,
   "metadata": {},
   "outputs": [
    {
     "name": "stdout",
     "output_type": "stream",
     "text": [
      "<a href=\"products/B01NAJGGA2.html\">\n",
      "<div class=\"productresult\">\n",
      "<span class=\"productid\">B01NAJGGA2</span>\n",
      "<span class=\"producttitle\">Mpow 059 Bluetooth Headphones</span>\n",
      "<span class=\"productprice\">$35.99</span>\n",
      "<span class=\"productdesc\">Over Ear, Hi-Fi Stereo Wireless Headset, Foldable, Soft Memory-Protein Earmuffs, w/Built-in Mic Wired Mode PC/Cell Phones/TV</span>\n",
      "</div>\n",
      "</a>\n",
      "<a href=\"products/B07JMSQLCP.html\">\n",
      "<div class=\"productresult\">\n",
      "<span class=\"productid\">B07JMSQLCP</span>\n",
      "<span class=\"producttitle\">APIE Bluetooth Headphones, Wireless Earbuds</span>\n",
      "<span class=\"productprice\">$19.99</span>\n",
      "<span class=\"productdesc\">Bluetooth 4.1 with Microphone Sport Stereo Headset, Stereo Neckband Headset, Premium Sound with Bass, Noise Cancelling - Black</span>\n",
      "</div>\n",
      "</a>\n",
      "<a href=\"products/B018APC4LE.html\">\n",
      "<div class=\"productresult\">\n",
      "<span class=\"productid\">B018APC4LE</span>\n",
      "<span class=\"producttitle\">Bluetooth Headphones, Otium</span>\n",
      "<span class=\"productprice\">$19.97</span>\n",
      "<span class=\"productdesc\">Best Wireless Sports Earphones W/Mic IPX7 Waterproof HD Stereo Sweatproof in Ear Earbuds Gym Running Workout 8 Hour Battery Noise Cancelling Headsets</span>\n",
      "</div>\n",
      "</a>\n"
     ]
    }
   ],
   "source": [
    "product_result = sr.find_all('a')\n",
    "for i in product_result:\n",
    "    print(i)"
   ]
  },
  {
   "cell_type": "code",
   "execution_count": 154,
   "metadata": {},
   "outputs": [
    {
     "name": "stdout",
     "output_type": "stream",
     "text": [
      "URL: products/B01NAJGGA2.html\n",
      "Product ID: B01NAJGGA2\n",
      "Product Title: Mpow 059 Bluetooth Headphones\n",
      "Product Price: $35.99\n",
      "Product Description: Over Ear, Hi-Fi Stereo Wireless Headset, Foldable, Soft Memory-Protein Earmuffs, w/Built-in Mic Wired Mode PC/Cell Phones/TV\n",
      "------------------\n",
      "URL: products/B07JMSQLCP.html\n",
      "Product ID: B07JMSQLCP\n",
      "Product Title: APIE Bluetooth Headphones, Wireless Earbuds\n",
      "Product Price: $19.99\n",
      "Product Description: Bluetooth 4.1 with Microphone Sport Stereo Headset, Stereo Neckband Headset, Premium Sound with Bass, Noise Cancelling - Black\n",
      "------------------\n",
      "URL: products/B018APC4LE.html\n",
      "Product ID: B018APC4LE\n",
      "Product Title: Bluetooth Headphones, Otium\n",
      "Product Price: $19.97\n",
      "Product Description: Best Wireless Sports Earphones W/Mic IPX7 Waterproof HD Stereo Sweatproof in Ear Earbuds Gym Running Workout 8 Hour Battery Noise Cancelling Headsets\n",
      "------------------\n"
     ]
    }
   ],
   "source": [
    "# Let's pull out each part\n",
    "product_result= sr.find_all('a')\n",
    "for i in product_result:\n",
    "    print('URL: ' + i['href'])\n",
    "#     This thing is only qurrying what's your machine not from website!\n",
    "    print('Product ID: '+ i.find('span', attrs={'class':'productid'}).text)\n",
    "    print('Product Title: '+ i.find('span', attrs={'class':'producttitle'}).text)\n",
    "    print('Product Price: '+ i.find('span', attrs={'class':'productprice'}).text)\n",
    "    print('Product Description: '+ i.find('span', attrs={'class':'productdesc'}).text)\n",
    "    print('------------------')\n",
    "   \n",
    "  "
   ]
  },
  {
   "cell_type": "code",
   "execution_count": 3,
   "metadata": {},
   "outputs": [
    {
     "ename": "SyntaxError",
     "evalue": "invalid syntax (<ipython-input-3-d28a42998d63>, line 3)",
     "output_type": "error",
     "traceback": [
      "\u001b[0;36m  File \u001b[0;32m\"<ipython-input-3-d28a42998d63>\"\u001b[0;36m, line \u001b[0;32m3\u001b[0m\n\u001b[0;31m    with open(filepath, 'w') dataout:\u001b[0m\n\u001b[0m                                   ^\u001b[0m\n\u001b[0;31mSyntaxError\u001b[0m\u001b[0;31m:\u001b[0m invalid syntax\n"
     ]
    }
   ],
   "source": [
    "filepath = '/Users/haider/BusinessIntelligence/dataout.csv'\n",
    "\n",
    "with open(filepath, 'w') dataout:\n",
    "    \n",
    "    \n",
    "    datawriter = csv.writer(dataout, delimiter=',', quotechar='\"', quoting=csv.QUOTE_NONNUMERIC)\n",
    "    datawriter.writerow(['URL', 'id', 'title', 'price', 'description'])\n",
    "    for i in product_result:\n",
    "        datawriter.writerow([i['href'], \n",
    "                             i.find('span', attrs={'class':'productid'}).text,\n",
    "                             i.find('span', attrs={'class':'producttitle'}).tex,\n",
    "                             i.find('span', attrs={'class':'productprice'}).text,\n",
    "                             i.find('span', attrs={'class':'productdesc'}).text])\n",
    "      \n"
   ]
  },
  {
   "cell_type": "code",
   "execution_count": null,
   "metadata": {},
   "outputs": [],
   "source": []
  }
 ],
 "metadata": {
  "kernelspec": {
   "display_name": "Python 3",
   "language": "python",
   "name": "python3"
  },
  "language_info": {
   "codemirror_mode": {
    "name": "ipython",
    "version": 3
   },
   "file_extension": ".py",
   "mimetype": "text/x-python",
   "name": "python",
   "nbconvert_exporter": "python",
   "pygments_lexer": "ipython3",
   "version": "3.7.5"
  }
 },
 "nbformat": 4,
 "nbformat_minor": 2
}
